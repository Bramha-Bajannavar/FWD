{
 "cells": [
  {
   "cell_type": "code",
   "execution_count": 3,
   "id": "dffa89ed-5446-4090-8c6c-4db2d6128dae",
   "metadata": {},
   "outputs": [
    {
     "name": "stdin",
     "output_type": "stream",
     "text": [
      "Enter your Groq API key:  ········\n"
     ]
    }
   ],
   "source": [
    "import getpass\n",
    "import os\n",
    "\n",
    "if \"GROQ_API_KEY\" not in os.environ:\n",
    "    os.environ[\"GROQ_API_KEY\"] = getpass.getpass(\"Enter your Groq API key: \")"
   ]
  },
  {
   "cell_type": "code",
   "execution_count": 4,
   "id": "f0ff3666-f503-459c-8663-d32ea7bed9dd",
   "metadata": {},
   "outputs": [],
   "source": [
    "from langchain_groq import ChatGroq\n",
    "\n",
    "llm = ChatGroq(\n",
    "    model=\"llama3-8b-8192\",        # Using LLaMA 3.0 8B model or LLaMA 3B as needed\n",
    "    temperature=0.3,                # Lower temperature for deterministic, focused output\n",
    "    max_tokens=500,                 # Moderate token limit for concise, detailed answers\n",
    "    max_retries=3,                  # Retries up to 3 times in case of failure\n",
    "    timeout=60,                     # 60 seconds to allow for complex tasks        \n",
    ")\n"
   ]
  },
  {
   "cell_type": "code",
   "execution_count": 5,
   "id": "b1f86611-6a32-4709-a8fa-fca09dabf203",
   "metadata": {},
   "outputs": [],
   "source": [
    "system_message = \"\"\"\n",
    "You are a health assistant trained to provide accurate information on health-related topics.\n",
    "Your tasks include:\n",
    "\n",
    "1. Providing information on medical conditions, treatments, and wellness.\n",
    "2. Offering advice on fitness, nutrition, and general health concerns.\n",
    "3. Addressing queries related to mental health and emotional well-being.\n",
    "\n",
    "Your Goals:\n",
    "- Answer health-related questions with accuracy, based on reliable medical information.\n",
    "- Avoid responding to non-health-related queries, such as entertainment, technology, or unrelated topics.\n",
    "- Always prioritize user safety and well-being in your responses.\n",
    "- Do not provide advice on any non-health-related matters.\n",
    "\"\"\"\n"
   ]
  },
  {
   "cell_type": "code",
   "execution_count": 11,
   "id": "a437d1cb-ec51-4583-a0c1-6866dd3be71b",
   "metadata": {},
   "outputs": [],
   "source": [
    "from langchain.prompts import ChatPromptTemplate\n",
    "prompt = ChatPromptTemplate.from_messages(\n",
    "    [\n",
    "        (\"system\", system_message),\n",
    "        (\"human\", \"Please respond to the following health-related query: {task_description}\"),\n",
    "    ]\n",
    ")\n",
    "chain=prompt | llm"
   ]
  },
  {
   "cell_type": "code",
   "execution_count": 12,
   "id": "2df1cc61-5e2d-4d9d-b4de-131baa62bf2c",
   "metadata": {},
   "outputs": [],
   "source": [
    "conversation_history = \"\"\n",
    "\n",
    "def get_response_with_dynamic_chain(prompt):\n",
    "    global conversation_history\n",
    "    \n",
    "    # Append the user prompt to the conversation history\n",
    "    conversation_history += f\"User: {prompt}\\n\"\n",
    "    \n",
    "    # Get the model's response\n",
    "    response = chain.invoke(conversation_history)\n",
    "    \n",
    "    # Append the model's response to the conversation history\n",
    "    conversation_history += f\"Assistant: {response.content}\\n\"\n",
    "    \n",
    "    # Optionally, you can keep updating the chain by appending further prompts\n",
    "    print(response.content)"
   ]
  },
  {
   "cell_type": "code",
   "execution_count": 13,
   "id": "60d8d1d7-6037-4cdf-ac74-8318a6e220a5",
   "metadata": {},
   "outputs": [
    {
     "name": "stdout",
     "output_type": "stream",
     "text": [
      "Parkinson's disease is a neurological disorder that affects movement, balance, and coordination. It's caused by a loss of dopamine-producing brain cells, leading to symptoms like tremors, rigidity, bradykinesia (slow movement), and postural instability. There is no cure, but medications and therapies can help manage symptoms.\n"
     ]
    }
   ],
   "source": [
    "get_response_with_dynamic_chain(\"what is parkinsons\")"
   ]
  },
  {
   "cell_type": "code",
   "execution_count": 14,
   "id": "69832627-ffb6-4155-b477-ce44669a972c",
   "metadata": {},
   "outputs": [
    {
     "name": "stdout",
     "output_type": "stream",
     "text": [
      "Parkinson's disease is currently not curable, but it is treatable. While there is no definitive cure, medications, therapies, and lifestyle changes can help manage symptoms and improve quality of life. Research is ongoing to find new treatments and potential cures, but a definitive cure is not yet available.\n"
     ]
    }
   ],
   "source": [
    "get_response_with_dynamic_chain(\"is it curable\")"
   ]
  },
  {
   "cell_type": "code",
   "execution_count": null,
   "id": "e7d9944e-aba7-417e-8285-0ac594eaff80",
   "metadata": {},
   "outputs": [],
   "source": []
  }
 ],
 "metadata": {
  "kernelspec": {
   "display_name": "Python 3 (ipykernel)",
   "language": "python",
   "name": "python3"
  },
  "language_info": {
   "codemirror_mode": {
    "name": "ipython",
    "version": 3
   },
   "file_extension": ".py",
   "mimetype": "text/x-python",
   "name": "python",
   "nbconvert_exporter": "python",
   "pygments_lexer": "ipython3",
   "version": "3.12.1"
  }
 },
 "nbformat": 4,
 "nbformat_minor": 5
}
