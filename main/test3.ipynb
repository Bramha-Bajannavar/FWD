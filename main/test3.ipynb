{
 "cells": [
  {
   "cell_type": "code",
   "execution_count": 1,
   "id": "ac816be6-a6de-475a-a9de-5b0d25791dde",
   "metadata": {},
   "outputs": [],
   "source": [
    "import pickle\n",
    "import numpy as np\n",
    "\n",
    "# Load the model and scaler from pickle files\n",
    "with open('parkinsons_model.pkl', 'rb') as model_file:\n",
    "    model = pickle.load(model_file)\n",
    "\n",
    "with open('scaler.pkl', 'rb') as scaler_file:\n",
    "    scaler = pickle.load(scaler_file)"
   ]
  },
  {
   "cell_type": "code",
   "execution_count": 2,
   "id": "cc5e750f-2aeb-4265-9f09-ec165e2adf2d",
   "metadata": {},
   "outputs": [],
   "source": [
    "def predict(input_features):\n",
    "    # Ensure the input is in the correct format (2D array)\n",
    "    input_features = np.array(input_features).reshape(1, -1)\n",
    "\n",
    "    # Scale the input features using the scaler\n",
    "    scaled_features = scaler.transform(input_features)\n",
    "\n",
    "    # Make the prediction using the model\n",
    "    prediction_prob = model.predict_proba(scaled_features)"
   ]
  },
  {
   "cell_type": "code",
   "execution_count": 4,
   "id": "09b3e4e3-3649-47b7-add5-3616d4b0a0ee",
   "metadata": {},
   "outputs": [
    {
     "name": "stderr",
     "output_type": "stream",
     "text": [
      "C:\\Users\\RAHUL\\AppData\\Local\\Programs\\Python\\Python312\\Lib\\site-packages\\sklearn\\base.py:493: UserWarning: X does not have valid feature names, but StandardScaler was fitted with feature names\n",
      "  warnings.warn(\n"
     ]
    }
   ],
   "source": [
    "predict([np.zeros(22)])"
   ]
  },
  {
   "cell_type": "markdown",
   "id": "c5d742f6-c043-479b-89be-9f89ee0347a3",
   "metadata": {},
   "source": [
    "# if __name__ == \"__main__\":\n",
    "    # Example input features (replace these with real values)\n",
    "    feature1 = float(input(\"Enter feature 1: \"))\n",
    "    feature2 = float(input(\"Enter feature 2: \"))\n",
    "    feature3 = float(input(\"Enter feature 3: \"))\n",
    "    \n",
    "    # List of features (add more features as necessary)\n",
    "    input_features = [feature1, feature2, feature3]\n",
    "    \n",
    "    # Make prediction\n",
    "    probability = predict(input_features)\n",
    "    \n",
    "    # Output the result\n",
    "    print(f\"Probability of Parkinson's disease: {probability}\")"
   ]
  },
  {
   "cell_type": "code",
   "execution_count": null,
   "id": "56efe09c-ff99-41a4-accc-3c890d7984db",
   "metadata": {},
   "outputs": [],
   "source": []
  }
 ],
 "metadata": {
  "kernelspec": {
   "display_name": "Python 3 (ipykernel)",
   "language": "python",
   "name": "python3"
  },
  "language_info": {
   "codemirror_mode": {
    "name": "ipython",
    "version": 3
   },
   "file_extension": ".py",
   "mimetype": "text/x-python",
   "name": "python",
   "nbconvert_exporter": "python",
   "pygments_lexer": "ipython3",
   "version": "3.12.1"
  }
 },
 "nbformat": 4,
 "nbformat_minor": 5
}
