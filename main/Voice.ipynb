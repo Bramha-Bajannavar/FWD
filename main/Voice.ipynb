{
 "cells": [
  {
   "cell_type": "code",
   "execution_count": 102,
   "id": "b8f48087-f0a8-481f-a7f5-e91a6debc0b6",
   "metadata": {},
   "outputs": [],
   "source": [
    "# Load the saved model and scaler\n",
    "with open('parkinsons_model.pkl', 'rb') as model_file:\n",
    "    model = pickle.load(model_file)\n",
    "\n",
    "with open('scaler.pkl', 'rb') as scaler_file:\n",
    "    scaler = pickle.load(scaler_file)\n",
    "\n",
    "# Load the saved imputer (to handle missing values in the features)\n",
    "with open('imputer.pkl', 'rb') as imputer_file:\n",
    "    imputer = pickle.load(imputer_file)"
   ]
  },
  {
   "cell_type": "code",
   "execution_count": 103,
   "id": "78ddeeed-576c-41e6-b0af-9fa6a0f7ce22",
   "metadata": {},
   "outputs": [
    {
     "name": "stdout",
     "output_type": "stream",
     "text": [
      "Recording...\n",
      "Please Read the Following Paragrapgh...\n",
      "The quick brown fox jumps over the lazy dog near a quiet riverbank.\n",
      "     As the sun sets, the calm breeze rustles the leaves, creating a soothing sound.\n",
      "     In the distance, a clock tower chimes, marking the end of another day. Every moment counts,\n",
      "     and every word we speak carries a meaning, shaping the world around us. \n",
      "     Speak clearly, and let your voice express the thoughts within your mind.\n",
      "Recording complete.\n"
     ]
    }
   ],
   "source": [
    "import pyaudio\n",
    "import wave\n",
    "\n",
    "def record_audio(filename='user_audio.wav', duration=5, sample_rate=16000):\n",
    "    \"\"\"Record audio from the microphone and save it as a .wav file.\"\"\"\n",
    "    p = pyaudio.PyAudio()\n",
    "    stream = p.open(format=pyaudio.paInt16, channels=1, rate=sample_rate, input=True, frames_per_buffer=1024)\n",
    "    \n",
    "    print(\"Recording...\")\n",
    "    print(\"Please Read the Following Paragrapgh...\")\n",
    "    print('''The quick brown fox jumps over the lazy dog near a quiet riverbank.\n",
    "     As the sun sets, the calm breeze rustles the leaves, creating a soothing sound.\n",
    "     In the distance, a clock tower chimes, marking the end of another day. Every moment counts,\n",
    "     and every word we speak carries a meaning, shaping the world around us. \n",
    "     Speak clearly, and let your voice express the thoughts within your mind.''')\n",
    "    frames = []\n",
    "    for _ in range(0, int(sample_rate / 1024 * duration)):\n",
    "        data = stream.read(1024)\n",
    "        frames.append(data)\n",
    "    \n",
    "    print(\"Recording complete.\")\n",
    "    stream.stop_stream()\n",
    "    stream.close()\n",
    "    p.terminate()\n",
    "    \n",
    "    with wave.open(filename, 'wb') as wf:\n",
    "        wf.setnchannels(1)\n",
    "        wf.setsampwidth(p.get_sample_size(pyaudio.paInt16))\n",
    "        wf.setframerate(sample_rate)\n",
    "        wf.writeframes(b''.join(frames))\n",
    "\n",
    "record_audio()\n"
   ]
  },
  {
   "cell_type": "code",
   "execution_count": 104,
   "id": "d9100c6c-f8ab-4ff7-9046-b4ebfe6250b9",
   "metadata": {},
   "outputs": [],
   "source": [
    "import librosa\n",
    "import numpy as np\n",
    "\n",
    "def extract_features(audio_file):\n",
    "    # Load the audio file\n",
    "    y, sr = librosa.load(audio_file, sr=None)\n",
    "\n",
    "    # Extract MFCC (13 coefficients)\n",
    "    mfcc = librosa.feature.mfcc(y=y, sr=sr, n_mfcc=13)\n",
    "    mfcc_scaled = np.mean(mfcc.T, axis=0)\n",
    "\n",
    "    # Extract additional features\n",
    "    zcr = np.mean(librosa.feature.zero_crossing_rate(y))\n",
    "    rolloff = np.mean(librosa.feature.spectral_rolloff(y=y, sr=sr, roll_percent=0.85))\n",
    "    chroma_mean = np.mean(librosa.feature.chroma_stft(y=y, sr=sr))\n",
    "\n",
    "    # Combine features\n",
    "    features = np.hstack((mfcc_scaled, zcr, rolloff, chroma_mean))  # Shape: (16,)\n",
    "\n",
    "    # Pad to 22 features if needed\n",
    "    if len(features) < 22:\n",
    "        features = np.pad(features, (0, 22 - len(features)), 'constant')\n",
    "\n",
    "    return features\n"
   ]
  },
  {
   "cell_type": "code",
   "execution_count": null,
   "id": "8ddee8df-6bb3-4cb9-8da1-6f8bf31c97e0",
   "metadata": {},
   "outputs": [
    {
     "name": "stdout",
     "output_type": "stream",
     "text": [
      "Scaler expected input shape: 22\n"
     ]
    }
   ],
   "source": [
    "# print(f\"Scaler expected input shape: {scaler.n_features_in_}\")\n"
   ]
  },
  {
   "cell_type": "code",
   "execution_count": null,
   "id": "bfca82ad",
   "metadata": {},
   "outputs": [],
   "source": []
  },
  {
   "cell_type": "code",
   "execution_count": null,
   "id": "4b7bcd94-753d-41e1-9efa-0bcb85276bb9",
   "metadata": {},
   "outputs": [],
   "source": [
    "def predict_parkinsons(audio_file):\n",
    "    \"\"\"Predict Parkinson's disease from an audio file.\"\"\"\n",
    "    print(\"Starting feature extraction...\")\n",
    "    features = extract_features(audio_file)\n",
    "    print(f\"Extracted features: {features}\")\n",
    "\n",
    "    # Check feature length\n",
    "    if len(features) != scaler.n_features_in_:\n",
    "        raise ValueError(f\"Feature shape mismatch: expected {scaler.n_features_in_} features, got {len(features)}\")\n",
    "    \n",
    "    print(\"Scaling features...\")\n",
    "    features_scaled = scaler.transform([features])\n",
    "    print(f\"Scaled features: {features_scaled}\")\n",
    "\n",
    "    print(\"Making prediction...\")\n",
    "    prediction = model.predict(features_scaled)\n",
    "    prediction_proba = model.predict_proba(features_scaled)\n",
    "    # print(f\"Prediction: {prediction}\")\n",
    "    print(f\"Prediction probabilities: {prediction_proba[0]}\")\n",
    "\n",
    "    # Print final result\n",
    "    if prediction_proba[0][0]>0.7:\n",
    "        print(f\"Prediction: Parkinson's disease detected with probability {prediction_proba[0][1]:.2f}\")\n",
    "    else:\n",
    "        print(f\"Prediction: No Parkinson's disease detected with probability {prediction_proba[0][0]:.2f}\")\n"
   ]
  },
  {
   "cell_type": "code",
   "execution_count": 107,
   "id": "ab3beb84-432f-4786-a8c9-911e649f9bee",
   "metadata": {},
   "outputs": [
    {
     "name": "stdout",
     "output_type": "stream",
     "text": [
      "Starting feature extraction...\n",
      "Extracted features: [-3.84022827e+02  6.91770477e+01 -1.27532234e+01  6.37990999e+00\n",
      " -5.12902832e+00 -2.18844242e+01 -3.52785416e+01 -6.05098867e+00\n",
      " -1.03454542e+01 -2.16157513e+01 -9.15637875e+00 -3.94376874e+00\n",
      " -2.31682682e+01  1.44179812e-01  3.20720541e+03  3.27716112e-01\n",
      "  0.00000000e+00  0.00000000e+00  0.00000000e+00  0.00000000e+00\n",
      "  0.00000000e+00  0.00000000e+00]\n",
      "Scaling features...\n",
      "Scaled features: [[-1.30378373e+01 -1.40184706e+00 -2.97348114e+00  1.31805265e+03\n",
      "  -1.47673541e+05 -7.39411650e+03 -1.28209871e+04 -6.82497408e+02\n",
      "  -5.51620442e+02 -1.12657397e+02 -9.05693435e+02 -3.30334462e+02\n",
      "  -1.37206637e+03  3.19895515e+00  7.95536688e+04 -4.88361965e+00\n",
      "  -4.80864470e+00 -1.30105112e+01  5.22747004e+00 -2.72275417e+00\n",
      "  -6.23814752e+00 -2.29787909e+00]]\n",
      "Making prediction...\n",
      "Prediction: [1]\n",
      "Prediction probabilities: [0.38 0.62]\n",
      "Prediction: No Parkinson's disease detected with probability 0.38\n"
     ]
    },
    {
     "name": "stderr",
     "output_type": "stream",
     "text": [
      "C:\\Users\\RAHUL\\AppData\\Local\\Programs\\Python\\Python312\\Lib\\site-packages\\sklearn\\base.py:493: UserWarning: X does not have valid feature names, but StandardScaler was fitted with feature names\n",
      "  warnings.warn(\n"
     ]
    }
   ],
   "source": [
    "try:\n",
    "    predict_parkinsons('user_audio.wav')\n",
    "except Exception as e:\n",
    "    print(f\"Error: {e}\")\n"
   ]
  },
  {
   "cell_type": "code",
   "execution_count": null,
   "id": "85b5e581-3d9f-49f4-bdee-2eac7103e8fe",
   "metadata": {},
   "outputs": [],
   "source": []
  },
  {
   "cell_type": "code",
   "execution_count": null,
   "id": "81c9bfe8-bd0f-4f28-8d9a-9b575a4c6610",
   "metadata": {},
   "outputs": [],
   "source": []
  }
 ],
 "metadata": {
  "kernelspec": {
   "display_name": "Python 3 (ipykernel)",
   "language": "python",
   "name": "python3"
  },
  "language_info": {
   "codemirror_mode": {
    "name": "ipython",
    "version": 3
   },
   "file_extension": ".py",
   "mimetype": "text/x-python",
   "name": "python",
   "nbconvert_exporter": "python",
   "pygments_lexer": "ipython3",
   "version": "3.12.1"
  }
 },
 "nbformat": 4,
 "nbformat_minor": 5
}
